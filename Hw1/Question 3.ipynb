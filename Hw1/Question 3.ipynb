{
 "cells": [
  {
   "cell_type": "code",
   "execution_count": 80,
   "metadata": {},
   "outputs": [],
   "source": [
    "import numpy as np\n",
    "import seaborn as sns\n",
    "%matplotlib inline"
   ]
  },
  {
   "cell_type": "markdown",
   "metadata": {},
   "source": [
    "### User inputs\n",
    "Enter your values for a,b,r,t below"
   ]
  },
  {
   "cell_type": "code",
   "execution_count": 81,
   "metadata": {},
   "outputs": [],
   "source": [
    "'''\n",
    "class 1 uniform ~(a,b)\n",
    "class 2 uniform ~ (r,t)\n",
    "Given - a<r<b<t\n",
    "Set your a,b,r,t here\n",
    "'''\n",
    "\n",
    "a=1\n",
    "b=10\n",
    "r=8\n",
    "t=12"
   ]
  },
  {
   "cell_type": "code",
   "execution_count": 82,
   "metadata": {},
   "outputs": [],
   "source": [
    "assert (a<r)\n",
    "assert (r<b)\n",
    "assert (b<t)"
   ]
  },
  {
   "cell_type": "code",
   "execution_count": 95,
   "metadata": {},
   "outputs": [
    {
     "data": {
      "image/png": "[encoded data removed]",
      "text/plain": [
       "<Figure size 720x720 with 1 Axes>"
      ]
     },
     "metadata": {
      "needs_background": "light"
     },
     "output_type": "display_data"
    }
   ],
   "source": [
    "from matplotlib import pyplot as plt\n",
    "from matplotlib.patches import Rectangle\n",
    "\n",
    "someX, someY = 0.5, 0\n",
    "plt.figure(figsize=(10,10))\n",
    "currentAxis = plt.gca()\n",
    "someX=(a)\n",
    "currentAxis.add_patch(Rectangle((someX, someY), (b-a), 1/(b-a),  alpha=.2,color=\"blue\",label=\"Class 1\"))\n",
    "someX=(r)\n",
    "currentAxis.add_patch(Rectangle((someX, someY), (t-r), 1/(t-r),  alpha=.5,color=\"orange\",label=\"Class 2\"))\n",
    "plt.xlim(0,t+2)\n",
    "plt.ylim(0,1)\n",
    "plt.title('Plot of class likelihood prob of 2 classes')\n",
    "plt.xlabel('Random Variable X')\n",
    "plt.ylabel('Probability')\n",
    "plt.legend()\n",
    "plt.show()"
   ]
  },
  {
   "cell_type": "markdown",
   "metadata": {},
   "source": [
    "### Decision rule"
   ]
  },
  {
   "cell_type": "code",
   "execution_count": 93,
   "metadata": {},
   "outputs": [
    {
     "name": "stdout",
     "output_type": "stream",
     "text": [
      "Domain of X is 1 to 12\n",
      "If x lies between 1 to 8, decide class 1\n",
      "If x lies between 8 to 10, decide class 2\n",
      "If x lies between 10 to 12, decide class 2\n"
     ]
    }
   ],
   "source": [
    "print (\"Domain of X is {} to {}\".format(a,t))\n",
    "print (\"If x lies between {} to {}, decide class 1\".format(a,r))\n",
    "print (\"If x lies between {} to {}, decide class {}\".format(r,b, 1 if 1/(b-a)>1/(t-r) else 2))\n",
    "print (\"If x lies between {} to {}, decide class 2\".format(b,t))"
   ]
  },
  {
   "cell_type": "code",
   "execution_count": null,
   "metadata": {},
   "outputs": [],
   "source": []
  }
 ],
 "metadata": {
  "kernelspec": {
   "display_name": "Python 3",
   "language": "python",
   "name": "python3"
  },
  "language_info": {
   "codemirror_mode": {
    "name": "ipython",
    "version": 3
   },
   "file_extension": ".py",
   "mimetype": "text/x-python",
   "name": "python",
   "nbconvert_exporter": "python",
   "pygments_lexer": "ipython3",
   "version": "3.7.3"
  }
 },
 "nbformat": 4,
 "nbformat_minor": 2
}

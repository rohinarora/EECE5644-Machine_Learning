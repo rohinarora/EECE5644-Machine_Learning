{
 "cells": [
  {
   "cell_type": "markdown",
   "metadata": {},
   "source": [
    "![](./4.png)"
   ]
  },
  {
   "cell_type": "markdown",
   "metadata": {},
   "source": [
    "### Code for part 3 of Question 5\n",
    "\n",
    "For math below, refer [PDF](https://github.com/rohinarora/EECE5644-Machine_Learning/blob/master/Hw1/ML_Homework_1.pdf)\n"
   ]
  },
  {
   "cell_type": "code",
   "execution_count": 1,
   "metadata": {},
   "outputs": [],
   "source": [
    "import numpy as np\n"
   ]
  },
  {
   "cell_type": "code",
   "execution_count": 2,
   "metadata": {},
   "outputs": [],
   "source": [
    "'''\n",
    "\n",
    "y=Ax+b\n",
    "\n",
    "User inputs-  N, n, μ, and Σ\n",
    "\n",
    "N,n>0\n",
    "μ.shape should be (n,1)\n",
    "Σ.shape should be (n,n)\n",
    "Σ should be positive semi definite\n",
    "'''\n",
    "\n",
    "N=1000000 # number of samples\n",
    "n=2 # number of dimensions\n",
    "μ=[[1],[1]] # mean of desired gaussian. \n",
    "Σ=[[2,0],[0,2]] # covariance of desired gaussian\n",
    "\n"
   ]
  },
  {
   "cell_type": "code",
   "execution_count": 3,
   "metadata": {},
   "outputs": [],
   "source": [
    "def is_pos_def(x):\n",
    "    return np.all(np.linalg.eigvals(x) > 0)"
   ]
  },
  {
   "cell_type": "code",
   "execution_count": 4,
   "metadata": {},
   "outputs": [],
   "source": [
    "# convert lists to numpy objects\n",
    "μ=np.matrix(μ)\n",
    "Σ=np.matrix([[2,0],[0,2]])\n",
    "\n",
    "assert(N>0)\n",
    "assert(n>0)\n",
    "assert(len(μ.shape)==2)\n",
    "assert(len(Σ.shape)==2)\n",
    "assert(n==μ.shape[0])\n",
    "assert(1==μ.shape[1])\n",
    "assert(n==Σ.shape[0])\n",
    "assert(n==Σ.shape[1])\n",
    "assert(is_pos_def(Σ)==True)"
   ]
  },
  {
   "cell_type": "code",
   "execution_count": 8,
   "metadata": {},
   "outputs": [
    {
     "name": "stdout",
     "output_type": "stream",
     "text": [
      "(2, 1000000)\n"
     ]
    }
   ],
   "source": [
    "\n",
    "\n",
    "# Sample from Gaussian of zero mean and unit variance \n",
    "x=np.random.normal(size=(n, N))\n",
    "print (x.shape)\n",
    "\n",
    "\n",
    "# Calculate the affine transform parameters\n",
    "A = np.linalg.cholesky(Σ)\n",
    "b = μ\n",
    "\n",
    "\n",
    "# y is the matrix with desired samples\n",
    "y=A.dot(x)+b"
   ]
  },
  {
   "cell_type": "code",
   "execution_count": 6,
   "metadata": {},
   "outputs": [
    {
     "data": {
      "text/plain": [
       "matrix([[0.99767316],\n",
       "        [0.99929557]])"
      ]
     },
     "execution_count": 6,
     "metadata": {},
     "output_type": "execute_result"
    }
   ],
   "source": [
    "'''\n",
    "sanity check\n",
    "'''\n",
    "\n",
    "print (\"mean of y is\"y.mean(1))"
   ]
  },
  {
   "cell_type": "code",
   "execution_count": 7,
   "metadata": {},
   "outputs": [
    {
     "data": {
      "text/plain": [
       "array([[ 1.99655199, -0.00311562],\n",
       "       [-0.00311562,  2.00061424]])"
      ]
     },
     "execution_count": 7,
     "metadata": {},
     "output_type": "execute_result"
    }
   ],
   "source": [
    "np.cov(y)"
   ]
  },
  {
   "cell_type": "code",
   "execution_count": null,
   "metadata": {},
   "outputs": [],
   "source": []
  }
 ],
 "metadata": {
  "kernelspec": {
   "display_name": "Python 3",
   "language": "python",
   "name": "python3"
  },
  "language_info": {
   "codemirror_mode": {
    "name": "ipython",
    "version": 3
   },
   "file_extension": ".py",
   "mimetype": "text/x-python",
   "name": "python",
   "nbconvert_exporter": "python",
   "pygments_lexer": "ipython3",
   "version": "3.7.3"
  }
 },
 "nbformat": 4,
 "nbformat_minor": 2
}

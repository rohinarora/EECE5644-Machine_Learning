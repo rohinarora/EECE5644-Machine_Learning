{
 "cells": [
  {
   "cell_type": "markdown",
   "metadata": {},
   "source": [
    "![](./4.png)"
   ]
  },
  {
   "cell_type": "markdown",
   "metadata": {},
   "source": [
    "### Code for part 3 of Question 5\n",
    "\n",
    "For math below, refer [PDF](https://github.com/rohinarora/EECE5644-Machine_Learning/blob/master/Hw1/ML_Homework_1.pdf)\n"
   ]
  },
  {
   "cell_type": "code",
   "execution_count": 1,
   "metadata": {},
   "outputs": [],
   "source": [
    "import numpy as np"
   ]
  },
  {
   "cell_type": "code",
   "execution_count": 2,
   "metadata": {},
   "outputs": [],
   "source": [
    "'''\n",
    "\n",
    "y=Ax+b\n",
    "\n",
    "User inputs-  N, n, μ, and Σ\n",
    "\n",
    "N,n>0\n",
    "μ.shape should be (n,1)\n",
    "Σ.shape should be (n,n)\n",
    "Σ should be positive semi definite\n",
    "'''\n",
    "\n",
    "N=1000000 # number of samples\n",
    "n=2 # number of dimensions\n",
    "μ=[[1],[1]] # mean of desired gaussian. \n",
    "Σ=[[2,0],[0,2]] # covariance of desired gaussian\n",
    "\n"
   ]
  },
  {
   "cell_type": "code",
   "execution_count": 3,
   "metadata": {},
   "outputs": [],
   "source": [
    "def is_pos_def(x):\n",
    "    '''\n",
    "    Function returns true if matrix is positive semi definite\n",
    "    '''\n",
    "    return np.all(np.linalg.eigvals(x) >= 0)"
   ]
  },
  {
   "cell_type": "code",
   "execution_count": 4,
   "metadata": {},
   "outputs": [],
   "source": [
    "# convert lists to numpy objects\n",
    "μ=np.matrix(μ)\n",
    "Σ=np.matrix([[2,0],[0,2]])\n",
    "\n",
    "'''\n",
    "asserts to make sure code below works\n",
    "'''\n",
    "\n",
    "assert(N>0)\n",
    "assert(n>0)\n",
    "assert(len(μ.shape)==2)\n",
    "assert(len(Σ.shape)==2)\n",
    "assert(n==μ.shape[0])\n",
    "assert(1==μ.shape[1])\n",
    "assert(n==Σ.shape[0])\n",
    "assert(n==Σ.shape[1])\n",
    "assert(is_pos_def(Σ)==True)"
   ]
  },
  {
   "cell_type": "code",
   "execution_count": 5,
   "metadata": {},
   "outputs": [
    {
     "name": "stdout",
     "output_type": "stream",
     "text": [
      "(2, 1000000)\n"
     ]
    }
   ],
   "source": [
    "'''Sample from Gaussian of zero mean and unit variance '''\n",
    "x=np.random.normal(size=(n, N))\n",
    "print (x.shape)\n",
    "\n",
    "'''Calculate the affine transform parameters'''\n",
    "A = np.linalg.cholesky(Σ)\n",
    "b = μ\n",
    "\n",
    "\n",
    "'''y is the matrix with desired samples''' \n",
    "y=A.dot(x)+b"
   ]
  },
  {
   "cell_type": "code",
   "execution_count": 6,
   "metadata": {},
   "outputs": [
    {
     "name": "stdout",
     "output_type": "stream",
     "text": [
      "mean of y is \n",
      "[[0.99683806]\n",
      " [1.00144135]]\n",
      "\n",
      "desired mean is \n",
      "[[1]\n",
      " [1]]\n",
      "\n",
      "\n",
      "covariance matrix of y is \n",
      "[[ 2.00386802e+00 -1.33560631e-03]\n",
      " [-1.33560631e-03  1.99826193e+00]]\n",
      "\n",
      "desired covariance matrix is \n",
      "[[2 0]\n",
      " [0 2]]\n",
      "\n",
      "\n",
      "\n",
      "The mean and covariance of samples obtained match the mean and covariance input by the user\n"
     ]
    }
   ],
   "source": [
    "'''\n",
    "sanity check\n",
    "'''\n",
    "\n",
    "print (\"mean of y is \\n{}\".format(y.mean(1)))\n",
    "print (\"\\ndesired mean is \\n{}\".format(μ))\n",
    "print (\"\\n\\ncovariance matrix of y is \\n{}\".format(np.cov(y)))\n",
    "print (\"\\ndesired covariance matrix is \\n{}\".format(Σ))\n",
    "\n",
    "print (\"\\n\\n\\nThe mean and covariance of samples obtained match the mean and covariance input by the user\")"
   ]
  },
  {
   "cell_type": "code",
   "execution_count": null,
   "metadata": {},
   "outputs": [],
   "source": []
  },
  {
   "cell_type": "code",
   "execution_count": null,
   "metadata": {},
   "outputs": [],
   "source": []
  },
  {
   "cell_type": "code",
   "execution_count": null,
   "metadata": {},
   "outputs": [],
   "source": []
  },
  {
   "cell_type": "code",
   "execution_count": 7,
   "metadata": {},
   "outputs": [
    {
     "data": {
      "text/plain": [
       "(2, 1000000)"
      ]
     },
     "execution_count": 7,
     "metadata": {},
     "output_type": "execute_result"
    }
   ],
   "source": [
    "y.shape"
   ]
  },
  {
   "cell_type": "code",
   "execution_count": 10,
   "metadata": {},
   "outputs": [
    {
     "data": {
      "text/plain": [
       "(2, 1)"
      ]
     },
     "execution_count": 10,
     "metadata": {},
     "output_type": "execute_result"
    }
   ],
   "source": [
    "x=np.random.normal(size=(n, 1))\n",
    "(A.dot(x)+b).shape"
   ]
  },
  {
   "cell_type": "code",
   "execution_count": 11,
   "metadata": {},
   "outputs": [
    {
     "data": {
      "text/plain": [
       "(2, 1)"
      ]
     },
     "execution_count": 11,
     "metadata": {},
     "output_type": "execute_result"
    }
   ],
   "source": [
    "x.shape"
   ]
  },
  {
   "cell_type": "code",
   "execution_count": 12,
   "metadata": {},
   "outputs": [
    {
     "data": {
      "text/plain": [
       "(2, 2)"
      ]
     },
     "execution_count": 12,
     "metadata": {},
     "output_type": "execute_result"
    }
   ],
   "source": [
    "A.shape"
   ]
  },
  {
   "cell_type": "code",
   "execution_count": 13,
   "metadata": {},
   "outputs": [
    {
     "data": {
      "text/plain": [
       "(2, 1)"
      ]
     },
     "execution_count": 13,
     "metadata": {},
     "output_type": "execute_result"
    }
   ],
   "source": [
    "b.shape"
   ]
  },
  {
   "cell_type": "code",
   "execution_count": null,
   "metadata": {},
   "outputs": [],
   "source": []
  }
 ],
 "metadata": {
  "kernelspec": {
   "display_name": "Python 3",
   "language": "python",
   "name": "python3"
  },
  "language_info": {
   "codemirror_mode": {
    "name": "ipython",
    "version": 3
   },
   "file_extension": ".py",
   "mimetype": "text/x-python",
   "name": "python",
   "nbconvert_exporter": "python",
   "pygments_lexer": "ipython3",
   "version": "3.7.3"
  }
 },
 "nbformat": 4,
 "nbformat_minor": 2
}
